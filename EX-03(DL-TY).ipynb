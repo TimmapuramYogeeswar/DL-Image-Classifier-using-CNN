{
 "cells": [
  {
   "cell_type": "code",
   "execution_count": 1,
   "id": "7fe35043-7aeb-4b61-9a28-4d66bd6174b3",
   "metadata": {},
   "outputs": [],
   "source": [
    "#NAME:TIMMAPURAM YOGEESWAR\n",
    "#REG NO:212223230233\n",
    "#EXPO-3"
   ]
  },
  {
   "cell_type": "code",
   "execution_count": 2,
   "id": "37a91660-c1b1-4569-bb3b-ae1198f1b099",
   "metadata": {},
   "outputs": [],
   "source": [
    "import torch\n",
    "import torch.nn as nn\n",
    "import torch.optim as optim\n",
    "import torchvision\n",
    "import torchvision.transforms as transforms\n",
    "from torch.utils.data import DataLoader\n",
    "import matplotlib.pyplot as plt\n",
    "import numpy as np\n",
    "from sklearn.metrics import confusion_matrix, classification_report\n",
    "import seaborn as sns"
   ]
  },
  {
   "cell_type": "code",
   "execution_count": 3,
   "id": "8eff521e-e157-4fc2-807c-3b029b43ccda",
   "metadata": {},
   "outputs": [],
   "source": [
    "## Step 1: Load and Preprocess Data\n",
    "# Define transformations for images\n",
    "transform = transforms.Compose([\n",
    "    transforms.ToTensor(),          # Convert images to tensors\n",
    "    transforms.Normalize((0.5,), (0.5,))  # Normalize images\n",
    "])"
   ]
  },
  {
   "cell_type": "code",
   "execution_count": 4,
   "id": "d8f8339b-d024-4787-8370-0d57ea3b63eb",
   "metadata": {},
   "outputs": [],
   "source": [
    "# Load MNIST dataset\n",
    "train_dataset = torchvision.datasets.MNIST(root=\"./data\", train=True, transform=transform, download=True)\n",
    "test_dataset = torchvision.datasets.MNIST(root=\"./data\", train=False, transform=transform, download=True)"
   ]
  },
  {
   "cell_type": "code",
   "execution_count": 5,
   "id": "cc08d76a-c421-4700-9d52-a793b25256d4",
   "metadata": {},
   "outputs": [
    {
     "name": "stdout",
     "output_type": "stream",
     "text": [
      "Image shape: torch.Size([1, 28, 28])\n",
      "Number of training samples: 60000\n"
     ]
    }
   ],
   "source": [
    "# Get the shape of the first image in the training dataset\n",
    "image, label = train_dataset[0]\n",
    "print(\"Image shape:\", image.shape)\n",
    "print(\"Number of training samples:\", len(train_dataset))"
   ]
  },
  {
   "cell_type": "code",
   "execution_count": 6,
   "id": "b21de7be-a4f4-485f-babc-dd063f5ad065",
   "metadata": {},
   "outputs": [
    {
     "name": "stdout",
     "output_type": "stream",
     "text": [
      "Image shape: torch.Size([1, 28, 28])\n",
      "Number of testing samples: 10000\n"
     ]
    }
   ],
   "source": [
    "# Get the shape of the first image in the test dataset\n",
    "image, label = test_dataset[0]\n",
    "print(\"Image shape:\", image.shape)\n",
    "print(\"Number of testing samples:\", len(test_dataset))"
   ]
  },
  {
   "cell_type": "code",
   "execution_count": 7,
   "id": "554c9c68-94ee-4c36-8036-a2f005df954f",
   "metadata": {},
   "outputs": [],
   "source": [
    "# Create DataLoader for batch processing\n",
    "train_loader = DataLoader(train_dataset, batch_size=32, shuffle=True)\n",
    "test_loader = DataLoader(test_dataset, batch_size=32, shuffle=False)"
   ]
  },
  {
   "cell_type": "code",
   "execution_count": 8,
   "id": "88177718-1cd6-4ab1-ae20-0e01c4245e99",
   "metadata": {},
   "outputs": [],
   "source": [
    "class CNNClassifier(nn.Module):\n",
    "    def __init__(self):\n",
    "        super(CNNClassifier, self).__init__()\n",
    "        self.conv1 = nn.Conv2d(1, 32, kernel_size=3, padding=1)\n",
    "        self.pool = nn.MaxPool2d(2, 2)\n",
    "        self.conv2 = nn.Conv2d(32, 64, kernel_size=3, padding=1)\n",
    "        self.fc1 = nn.Linear(64 * 7 * 7, 128)\n",
    "        self.fc2 = nn.Linear(128, 10)\n",
    "        self.dropout = nn.Dropout(0.3)\n",
    "        self.relu = nn.ReLU()\n",
    "\n",
    "    def forward(self, x):\n",
    "        x = self.relu(self.conv1(x))\n",
    "        x = self.pool(x)\n",
    "        x = self.relu(self.conv2(x))\n",
    "        x = self.pool(x)\n",
    "        x = x.view(-1, 64 * 7 * 7)   # flatten\n",
    "        x = self.relu(self.fc1(x))\n",
    "        x = self.dropout(x)\n",
    "        x = self.fc2(x)\n",
    "        return x"
   ]
  },
  {
   "cell_type": "code",
   "execution_count": 9,
   "id": "b0325faa-5d5e-410a-954c-a189a92521be",
   "metadata": {},
   "outputs": [
    {
     "name": "stdout",
     "output_type": "stream",
     "text": [
      "Name:YOGI\n",
      "Register Number: 212223230233\n",
      "----------------------------------------------------------------\n",
      "        Layer (type)               Output Shape         Param #\n",
      "================================================================\n",
      "            Conv2d-1           [-1, 32, 28, 28]             320\n",
      "              ReLU-2           [-1, 32, 28, 28]               0\n",
      "         MaxPool2d-3           [-1, 32, 14, 14]               0\n",
      "            Conv2d-4           [-1, 64, 14, 14]          18,496\n",
      "              ReLU-5           [-1, 64, 14, 14]               0\n",
      "         MaxPool2d-6             [-1, 64, 7, 7]               0\n",
      "            Linear-7                  [-1, 128]         401,536\n",
      "              ReLU-8                  [-1, 128]               0\n",
      "           Dropout-9                  [-1, 128]               0\n",
      "           Linear-10                   [-1, 10]           1,290\n",
      "================================================================\n",
      "Total params: 421,642\n",
      "Trainable params: 421,642\n",
      "Non-trainable params: 0\n",
      "----------------------------------------------------------------\n",
      "Input size (MB): 0.00\n",
      "Forward/backward pass size (MB): 0.65\n",
      "Params size (MB): 1.61\n",
      "Estimated Total Size (MB): 2.26\n",
      "----------------------------------------------------------------\n"
     ]
    }
   ],
   "source": [
    "from torchsummary import summary\n",
    "\n",
    "# Initialize model\n",
    "model = CNNClassifier()\n",
    "\n",
    "# Move model to GPU if available\n",
    "if torch.cuda.is_available():\n",
    "    device = torch.device(\"cuda\")\n",
    "    model.to(device)\n",
    "\n",
    "# Print model summary\n",
    "print('Name:YOGI')\n",
    "print('Register Number: 212223230233')\n",
    "summary(model, input_size=(1, 28, 28))"
   ]
  },
  {
   "cell_type": "code",
   "execution_count": 12,
   "id": "0e43d4c4-728a-492f-b4ff-806a088e6c96",
   "metadata": {},
   "outputs": [
    {
     "name": "stdout",
     "output_type": "stream",
     "text": [
      "Using device: cuda\n"
     ]
    }
   ],
   "source": [
    "# Select device (GPU if available, else CPU)\n",
    "device = torch.device(\"cuda\" if torch.cuda.is_available() else \"cpu\")\n",
    "print(\"Using device:\", device)\n",
    "\n",
    "# Initialize model, loss function, optimizer\n",
    "model = CNNClassifier().to(device)\n",
    "criterion = nn.CrossEntropyLoss()\n",
    "optimizer = optim.Adam(model.parameters(), lr=0.001)"
   ]
  },
  {
   "cell_type": "code",
   "execution_count": 13,
   "id": "1a9d7bec-92a2-4c08-b1c8-397092519d19",
   "metadata": {},
   "outputs": [],
   "source": [
    "def train_model(model, train_loader, num_epochs=5):\n",
    "    for epoch in range(num_epochs):\n",
    "        model.train()\n",
    "        running_loss = 0.0\n",
    "\n",
    "        for images, labels in train_loader:\n",
    "            images, labels = images.to(device), labels.to(device)\n",
    "\n",
    "            optimizer.zero_grad()\n",
    "            outputs = model(images)\n",
    "            loss = criterion(outputs, labels)\n",
    "            loss.backward()\n",
    "            optimizer.step()\n",
    "\n",
    "            running_loss += loss.item()\n",
    "\n",
    "        print('Name: YOGI')\n",
    "        print('Register Number: 212223230233')\n",
    "        print(f'Epoch [{epoch+1}/{num_epochs}], Loss: {running_loss/len(train_loader):.4f}')"
   ]
  },
  {
   "cell_type": "code",
   "execution_count": 14,
   "id": "55baa0ff-4968-4ee6-90d2-da53ceaff076",
   "metadata": {},
   "outputs": [
    {
     "name": "stdout",
     "output_type": "stream",
     "text": [
      "Name: YOGI\n",
      "Register Number: 212223230233\n",
      "Epoch [1/10], Loss: 0.1688\n",
      "Name: YOGI\n",
      "Register Number: 212223230233\n",
      "Epoch [2/10], Loss: 0.0626\n",
      "Name: YOGI\n",
      "Register Number: 212223230233\n",
      "Epoch [3/10], Loss: 0.0470\n",
      "Name: YOGI\n",
      "Register Number: 212223230233\n",
      "Epoch [4/10], Loss: 0.0351\n",
      "Name: YOGI\n",
      "Register Number: 212223230233\n",
      "Epoch [5/10], Loss: 0.0315\n",
      "Name: YOGI\n",
      "Register Number: 212223230233\n",
      "Epoch [6/10], Loss: 0.0240\n",
      "Name: YOGI\n",
      "Register Number: 212223230233\n",
      "Epoch [7/10], Loss: 0.0217\n",
      "Name: YOGI\n",
      "Register Number: 212223230233\n",
      "Epoch [8/10], Loss: 0.0180\n",
      "Name: YOGI\n",
      "Register Number: 212223230233\n",
      "Epoch [9/10], Loss: 0.0163\n",
      "Name: YOGI\n",
      "Register Number: 212223230233\n",
      "Epoch [10/10], Loss: 0.0149\n"
     ]
    }
   ],
   "source": [
    "# Train the model\n",
    "train_model(model, train_loader, num_epochs=10)"
   ]
  },
  {
   "cell_type": "code",
   "execution_count": 15,
   "id": "22819f5e-1e6f-45b5-bda0-ab63370f003d",
   "metadata": {},
   "outputs": [],
   "source": [
    "## Step 4: Test the Model\n",
    "def test_model(model, test_loader):\n",
    "    model.eval()\n",
    "    correct = 0\n",
    "    total = 0\n",
    "    all_preds = []\n",
    "    all_labels = []\n",
    "\n",
    "    with torch.no_grad():\n",
    "        for images, labels in test_loader:\n",
    "            if torch.cuda.is_available():\n",
    "                images, labels = images.to(device), labels.to(device)\n",
    "\n",
    "            outputs = model(images)\n",
    "            _, predicted = torch.max(outputs, 1)\n",
    "            total += labels.size(0)\n",
    "            correct += (predicted == labels).sum().item()\n",
    "            all_preds.extend(predicted.cpu().numpy())\n",
    "            all_labels.extend(labels.cpu().numpy())\n",
    "\n",
    "    accuracy = correct / total\n",
    "    print('Name: YOGI')\n",
    "    print('Register Number: 212223230233')\n",
    "    print(f'Test Accuracy: {accuracy:.4f}')\n",
    "    # Compute confusion matrix\n",
    "    cm = confusion_matrix(all_labels, all_preds)\n",
    "    plt.figure(figsize=(8, 6))\n",
    "    print('Name: YOGI')\n",
    "    print('Register Number: 212223230233')\n",
    "    sns.heatmap(cm, annot=True, fmt='d', cmap='Blues', xticklabels=test_dataset.classes, yticklabels=test_dataset.classes)\n",
    "    plt.xlabel('Predicted')\n",
    "    plt.ylabel('Actual')\n",
    "    plt.title('Confusion Matrix')\n",
    "    plt.show()\n",
    "    # Print classification report\n",
    "    print('Name: YOGI')\n",
    "    print('Register Number: 212223230233')\n",
    "    print(\"Classification Report:\")\n",
    "    print(classification_report(all_labels, all_preds, target_names=[str(i) for i in range(10)]))"
   ]
  },
  {
   "cell_type": "code",
   "execution_count": 16,
   "id": "1af9a6b4-cebb-433a-b1af-0b73f9a4d081",
   "metadata": {},
   "outputs": [
    {
     "name": "stdout",
     "output_type": "stream",
     "text": [
      "Name: YOGI\n",
      "Register Number: 212223230233\n",
      "Test Accuracy: 0.9931\n",
      "Name: YOGI\n",
      "Register Number: 212223230233\n"
     ]
    },
    {
     "data": {
      "image/png": "[encoded data removed]",
      "text/plain": [
       "<Figure size 800x600 with 2 Axes>"
      ]
     },
     "metadata": {},
     "output_type": "display_data"
    },
    {
     "name": "stdout",
     "output_type": "stream",
     "text": [
      "Name: YOGI\n",
      "Register Number: 212223230233\n",
      "Classification Report:\n",
      "              precision    recall  f1-score   support\n",
      "\n",
      "           0       0.99      1.00      0.99       980\n",
      "           1       0.99      1.00      0.99      1135\n",
      "           2       1.00      0.99      0.99      1032\n",
      "           3       0.99      1.00      0.99      1010\n",
      "           4       0.99      0.99      0.99       982\n",
      "           5       1.00      0.99      0.99       892\n",
      "           6       1.00      0.99      0.99       958\n",
      "           7       0.99      0.99      0.99      1028\n",
      "           8       0.99      0.99      0.99       974\n",
      "           9       0.99      0.99      0.99      1009\n",
      "\n",
      "    accuracy                           0.99     10000\n",
      "   macro avg       0.99      0.99      0.99     10000\n",
      "weighted avg       0.99      0.99      0.99     10000\n",
      "\n"
     ]
    }
   ],
   "source": [
    "# Evaluate the model\n",
    "test_model(model, test_loader)"
   ]
  },
  {
   "cell_type": "code",
   "execution_count": 17,
   "id": "91131925-5f2b-4ce7-9020-2b7cf5ac7f15",
   "metadata": {},
   "outputs": [],
   "source": [
    "## Step 5: Predict on a Single Image\n",
    "def predict_image(model, image_index, dataset):\n",
    "    model.eval()\n",
    "    image, label = dataset[image_index]\n",
    "    if torch.cuda.is_available():\n",
    "        image = image.to(device)\n",
    "\n",
    "    with torch.no_grad():\n",
    "        output = model(image.unsqueeze(0))\n",
    "        _, predicted = torch.max(output, 1)\n",
    "\n",
    "    class_names = [str(i) for i in range(10)]\n",
    "\n",
    "    print('Name: YOGI')\n",
    "    print('Register Number: 212223230233')\n",
    "    plt.imshow(image.cpu().squeeze(), cmap=\"gray\")\n",
    "    plt.title(f'Actual: {class_names[label]}\\nPredicted: {class_names[predicted.item()]}')\n",
    "    plt.axis(\"off\")\n",
    "    plt.show()\n",
    "    print(f'Actual: {class_names[label]}, Predicted: {class_names[predicted.item()]}')"
   ]
  },
  {
   "cell_type": "code",
   "execution_count": 18,
   "id": "1e604b36-cd72-4272-8ab0-1ba74e0b1017",
   "metadata": {},
   "outputs": [
    {
     "name": "stdout",
     "output_type": "stream",
     "text": [
      "Name: YOGI\n",
      "Register Number: 212223230233\n"
     ]
    },
    {
     "data": {
      "image/png": "[encoded data removed]",
      "text/plain": [
       "<Figure size 640x480 with 1 Axes>"
      ]
     },
     "metadata": {},
     "output_type": "display_data"
    },
    {
     "name": "stdout",
     "output_type": "stream",
     "text": [
      "Actual: 7, Predicted: 7\n"
     ]
    }
   ],
   "source": [
    "# Example Prediction\n",
    "predict_image(model, image_index=80, dataset=test_dataset)"
   ]
  },
  {
   "cell_type": "code",
   "execution_count": null,
   "id": "9884bf1a-0619-460a-9d74-88628ec790fa",
   "metadata": {},
   "outputs": [],
   "source": []
  }
 ],
 "metadata": {
  "kernelspec": {
   "display_name": "Python 3 (ipykernel)",
   "language": "python",
   "name": "python3"
  },
  "language_info": {
   "codemirror_mode": {
    "name": "ipython",
    "version": 3
   },
   "file_extension": ".py",
   "mimetype": "text/x-python",
   "name": "python",
   "nbconvert_exporter": "python",
   "pygments_lexer": "ipython3",
   "version": "3.12.11"
  }
 },
 "nbformat": 4,
 "nbformat_minor": 5
}
